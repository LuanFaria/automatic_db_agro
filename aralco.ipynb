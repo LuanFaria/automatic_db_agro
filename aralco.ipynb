{
 "cells": [
  {
   "cell_type": "code",
   "execution_count": 168,
   "id": "4a02e3f8-e692-4a85-a528-1f97bd5cfc7b",
   "metadata": {},
   "outputs": [],
   "source": [
    "import pandas as pd\n",
    "import numpy as np\n",
    "import locale\n",
    "import csv"
   ]
  },
  {
   "cell_type": "code",
   "execution_count": 169,
   "id": "669a2dd5-09a7-4797-8a2a-4b4dd37d16fd",
   "metadata": {},
   "outputs": [],
   "source": [
    "#IMPORTANDO BASE DE DADOS, criando um lista bdagro e removendo colunas indesejadas\n",
    "lista_bd_agro=['CHAVE',\t'CLIENTE',\t'SAFRA',\t'OBJETIVO',\t'TP_PROP',\t'FAZENDA',\t'SETOR',\t'SECAO',\t'BLOCO',\t'PIVO',\t'DESC_FAZ',\t'TALHAO',\t'VARIEDADE',\t'MATURACAO',\t'AMBIENTE',\t'IRRIGACAO',\t'ESTAGIO',\t'GRUPO_DASH',\t'GRUPO_NDVI',\t'NMRO_CORTE',\t'DESC_CANA',\t'AREA_BD',\t'A_EST_MOAGEM',\t'A_COLHIDA',\t'A_EST_MUDA',\t'A_MUDA',\t'TCH_EST',\t'TC_EST',\t'TCH_REST',\t'TC_REST',\t'TCH_REAL',\t'TC_REAL',\t'DT_CORTE',\t'DT_ULT_CORTE',\t'DT_PLANTIO',\t'IDADE_CORTE',\t'ATR',\t'ATR_EST','TAH']\n",
    "banco_aralco = pd.read_csv('input/base_talhao_202507231055.csv', sep=',', encoding='utf-8')\n",
    "estagios = pd.read_excel('C:/Users/luan.faria/Desktop/cod_luan/cod/SIGMA/cod/bd_agro_automatico/estagios.xlsx')\n",
    "bd_aralco = banco_aralco\n",
    "bd_agro = pd.DataFrame(columns=lista_bd_agro)\n"
   ]
  },
  {
   "cell_type": "code",
   "execution_count": 170,
   "id": "62b4573c-48f0-4184-a74e-df9d2b662921",
   "metadata": {},
   "outputs": [],
   "source": [
    "#concatenar ID\n",
    "bd_aralco['chave'] = bd_aralco['cod_fazenda'].astype(str) + '_' + bd_aralco['cod_talhao'].astype(str)\n"
   ]
  },
  {
   "cell_type": "code",
   "execution_count": 171,
   "id": "254f96e8-c635-4202-96f0-e6752e13c876",
   "metadata": {},
   "outputs": [],
   "source": [
    "bd_aralco['numero_corte'] = bd_aralco['numero_corte'].apply(\n",
    "    lambda x: int(x) if str(x).isdigit() else x)\n"
   ]
  },
  {
   "cell_type": "code",
   "execution_count": 172,
   "id": "48cd6de4-29c4-460e-9c36-616fded3dc3f",
   "metadata": {},
   "outputs": [
    {
     "name": "stderr",
     "output_type": "stream",
     "text": [
      "C:\\Users\\luan.faria\\AppData\\Local\\Temp\\ipykernel_17176\\1607425176.py:8: SettingWithCopyWarning: \n",
      "A value is trying to be set on a copy of a slice from a DataFrame.\n",
      "Try using .loc[row_indexer,col_indexer] = value instead\n",
      "\n",
      "See the caveats in the documentation: https://pandas.pydata.org/pandas-docs/stable/user_guide/indexing.html#returning-a-view-versus-a-copy\n",
      "  bd_aralco['amb_producao'] = bd_aralco['amb_producao'].fillna('ADEF')\n",
      "C:\\Users\\luan.faria\\AppData\\Local\\Temp\\ipykernel_17176\\1607425176.py:9: SettingWithCopyWarning: \n",
      "A value is trying to be set on a copy of a slice from a DataFrame.\n",
      "Try using .loc[row_indexer,col_indexer] = value instead\n",
      "\n",
      "See the caveats in the documentation: https://pandas.pydata.org/pandas-docs/stable/user_guide/indexing.html#returning-a-view-versus-a-copy\n",
      "  bd_aralco['manejo'] = bd_aralco['manejo'].fillna('ADEF')\n",
      "C:\\Users\\luan.faria\\AppData\\Local\\Temp\\ipykernel_17176\\1607425176.py:10: SettingWithCopyWarning: \n",
      "A value is trying to be set on a copy of a slice from a DataFrame.\n",
      "Try using .loc[row_indexer,col_indexer] = value instead\n",
      "\n",
      "See the caveats in the documentation: https://pandas.pydata.org/pandas-docs/stable/user_guide/indexing.html#returning-a-view-versus-a-copy\n",
      "  bd_aralco['manejo'] = bd_aralco['manejo'].replace({'A DEFINIR':'ADEF', 'MEDIA':'MÉDIA'})\n"
     ]
    }
   ],
   "source": [
    "#renomear tp_prop\n",
    "bd_aralco['tipo_fazenda'] = bd_aralco['tipo_fazenda'].replace({\n",
    "    'PROPRIA': 'PRÓPRIAS',\n",
    "    'FORNECEDORES': 'FORNECEDORES'})\n",
    "\n",
    "bd_aralco = bd_aralco.loc[bd_aralco['tipo_fazenda'] != 'SPOT']\n",
    "\n",
    "bd_aralco['amb_producao'] = bd_aralco['amb_producao'].fillna('ADEF')\n",
    "bd_aralco['manejo'] = bd_aralco['manejo'].fillna('ADEF')\n",
    "bd_aralco['manejo'] = bd_aralco['manejo'].replace({'A DEFINIR':'ADEF', 'MEDIA':'MÉDIA'})\n"
   ]
  },
  {
   "cell_type": "code",
   "execution_count": 173,
   "id": "873c84e4-b81f-490d-b702-41606d30ab1e",
   "metadata": {},
   "outputs": [],
   "source": [
    "bd_aralco = bd_aralco[\n",
    "    ~((bd_aralco['areamuda'] == 0) & \n",
    "      (bd_aralco['areaproducao'] == 0) & \n",
    "      (bd_aralco['area_reforma'] == 0))\n",
    "]\n"
   ]
  },
  {
   "cell_type": "code",
   "execution_count": 174,
   "id": "28ef9c82-c772-4317-b412-e59096c19d69",
   "metadata": {},
   "outputs": [
    {
     "name": "stdout",
     "output_type": "stream",
     "text": [
      "Área total de produção: 61707.41 ha\n",
      "Área total de produção: 61702.41 ha\n",
      "Número de duplicatas na coluna \"id\": 0\n"
     ]
    }
   ],
   "source": [
    "#RESOLVENDO O PROBLEMAS DAQUELES DUPLICADOS \n",
    "total_area = bd_aralco['areaproducao'].sum()\n",
    "print(f'Área total de produção: {total_area:.2f} ha')\n",
    "\n",
    "# 1. Remove as duplicatas com areaproducao = 0\n",
    "filtro = (bd_aralco.duplicated(subset='chave', keep=False)) & (bd_aralco['areaproducao'] == 0) & (bd_aralco['areamuda'] == 0)\n",
    "bd_aralco = bd_aralco[~filtro]\n",
    "\n",
    "### 2. Remove duplicatas mantendo a primeira (caso ainda tenha alguma)\n",
    "bd_aralco = bd_aralco.drop_duplicates(subset='chave', keep='first')\n",
    "\n",
    "#verificar se tem duplicados \n",
    "total_area = bd_aralco['areaproducao'].sum()\n",
    "print(f'Área total de produção: {total_area:.2f} ha')\n",
    "numero_duplicados = bd_aralco['chave'].duplicated().sum()\n",
    "print(f'Número de duplicatas na coluna \"id\": {numero_duplicados}')"
   ]
  },
  {
   "cell_type": "code",
   "execution_count": 175,
   "id": "4605fe9e-245d-4cb2-a971-4ffe13069b28",
   "metadata": {},
   "outputs": [
    {
     "name": "stdout",
     "output_type": "stream",
     "text": [
      "Área total de produção: 23949.06 ha\n"
     ]
    }
   ],
   "source": [
    "#colhidos total\n",
    "# Definindo as condições de objetivo\n",
    "condicoes = [\n",
    "    (bd_aralco['encerrado'] == 'S')]\n",
    "\n",
    "# Definindo os valores correspondentes para cada condição\n",
    "valores = [bd_aralco['area_realizada']]\n",
    "\n",
    "# Aplicando as condições e atribuindo o valor na nova coluna 'OBJETIVO'\n",
    "bd_aralco['area_realizada'] = np.select(condicoes, valores, default=0)\n",
    "\n",
    "#valor\n",
    "total_area_real = bd_aralco['area_realizada'].sum()\n",
    "print(f'Área total de produção: {total_area_real:.2f} ha')\n"
   ]
  },
  {
   "cell_type": "code",
   "execution_count": 176,
   "id": "02844cba-355a-46cd-a7b5-8e21e30db503",
   "metadata": {},
   "outputs": [],
   "source": [
    "# Definindo as condições de objetivo\n",
    "condicoes = [\n",
    "    (bd_aralco['areamuda'] > 0) & (bd_aralco['areaproducao'] > 0),\n",
    "    (bd_aralco['areamuda'] > 0) & (bd_aralco['areaproducao'] == 0),\n",
    "    (bd_aralco['areamuda'] == 0) & (bd_aralco['areaproducao'] > 0)]\n",
    "                                   \n",
    "\n",
    "# Definindo os valores correspondentes para cada condição\n",
    "valores = ['MOAGEM/MUDA','MUDA','MOAGEM']\n",
    "\n",
    "# Aplicando as condições e atribuindo o valor na nova coluna 'OBJETIVO'\n",
    "bd_aralco['OBJETIVO'] = np.select(condicoes, valores, default='REFORMA')\n",
    "bd_aralco['area_util'] = bd_aralco['areaplantada'] - bd_aralco['areadiversa']"
   ]
  },
  {
   "cell_type": "code",
   "execution_count": 177,
   "id": "d59e61b2-3df9-47de-b484-3edbb48396c6",
   "metadata": {},
   "outputs": [
    {
     "name": "stdout",
     "output_type": "stream",
     "text": [
      "OBJETIVO\n",
      "MOAGEM         59302.17\n",
      "MOAGEM/MUDA     3727.73\n",
      "MUDA            1463.64\n",
      "REFORMA        13128.02\n",
      "Name: area_util, dtype: float64\n"
     ]
    }
   ],
   "source": [
    "bd_aralco = bd_aralco[bd_aralco['OBJETIVO'] != 'ADEF'].reset_index(drop=True)\n",
    "#esses adef são areas de dano\n",
    "area_por_objetivo = bd_aralco.groupby('OBJETIVO')['area_util'].sum()\n",
    "print(area_por_objetivo)"
   ]
  },
  {
   "cell_type": "code",
   "execution_count": 178,
   "id": "b9de8dad-979b-4cc7-b929-3344a85e0af7",
   "metadata": {},
   "outputs": [],
   "source": [
    "# Ajuste o nome da coluna, se necessário\n",
    "coluna_estagios = 'ESTAGIO'  # Substitua pelo nome correto se for diferente\n",
    "\n",
    "# Realizando o merge\n",
    "bd_aralco = pd.merge(\n",
    "    bd_aralco,\n",
    "    estagios,\n",
    "    left_on='numero_corte',  # Coluna no bd_aralco\n",
    "    right_on=coluna_estagios,  # Coluna no estagios\n",
    "    how='left'\n",
    ")\n",
    "\n",
    "# Removendo a coluna duplicada se necessário\n",
    "if coluna_estagios in bd_aralco.columns:\n",
    "    bd_aralco.drop(columns=[coluna_estagios], inplace=True)"
   ]
  },
  {
   "cell_type": "code",
   "execution_count": 179,
   "id": "a4e5a598-cb6a-43f6-94b8-78a4690dcd3d",
   "metadata": {},
   "outputs": [],
   "source": [
    "bd_agro['CHAVE'] = bd_aralco['chave']\n",
    "bd_agro['CLIENTE'] = 'ARALCO'\n",
    "bd_agro['SAFRA'] = bd_aralco['cod_safra']\n",
    "bd_agro['OBJETIVO'] = bd_aralco['OBJETIVO']\n",
    "bd_agro['TP_PROP'] = bd_aralco['tipo_fazenda']\n",
    "bd_agro['FAZENDA'] = bd_aralco['cod_fazenda']\n",
    "bd_agro['SETOR'] = ''\n",
    "bd_agro['SECAO'] = ''\n",
    "bd_agro['BLOCO'] = ''\n",
    "bd_agro['PIVO'] = ''\n",
    "bd_agro['DESC_FAZ'] = bd_aralco['fazenda']\n",
    "bd_agro['TALHAO'] = bd_aralco['cod_talhao']\n",
    "bd_agro['VARIEDADE'] = bd_aralco['variedade'] \n",
    "bd_agro['MATURACAO'] = bd_aralco['manejo']\n",
    "bd_agro['AMBIENTE'] = bd_aralco['amb_producao']\n",
    "bd_agro['IRRIGACAO'] = 'ADEF'\n",
    "bd_agro['TESTE']=bd_aralco['numero_corte']\n",
    "bd_agro['ESTAGIO'] = bd_aralco['ESTAGIO_25']\n",
    "bd_agro['GRUPO_DASH'] = bd_aralco['GRUPO_DASH'] \n",
    "bd_agro['GRUPO_NDVI'] = bd_aralco['GRUPO_NDVI']\n",
    "bd_agro['NMRO_CORTE'] = bd_aralco['NMRO_CORTE']\n",
    "bd_agro['DESC_CANA'] = bd_aralco['DESC_CANA']\n",
    "bd_agro['AREA_BD'] = bd_aralco['area_util']\n",
    "bd_agro['A_EST_MOAGEM'] = bd_aralco['areaproducao']\n",
    "bd_agro['A_COLHIDA'] = bd_aralco['area_realizada']\n",
    "bd_agro['A_EST_MUDA'] = bd_aralco['areamuda']\n",
    "bd_agro['A_MUDA'] = bd_aralco['areamuda']"
   ]
  },
  {
   "cell_type": "code",
   "execution_count": 180,
   "id": "1d1fa5df-ebb3-4460-81d7-a75330c11e8e",
   "metadata": {},
   "outputs": [],
   "source": [
    "#bd_estiva = bd_estiva.replace('.',',')\n",
    "bd_agro['TCH_EST'] = bd_aralco['tch_estimado']\n",
    "bd_agro['TC_EST'] =bd_aralco['areaproducao'] * bd_aralco['tch_estimado']\n",
    "bd_agro['TCH_REST'] = ''\n",
    "bd_agro['TC_REST'] = ''\n",
    "bd_aralco['TC_REAL'] = np.select([bd_aralco['encerrado'] == 'S'], [bd_aralco['producao_realizada']], default=0)\n",
    "bd_agro['TCH_REAL'] = np.select([bd_aralco['TC_REAL']>0], [bd_aralco['TC_REAL'] / bd_agro['A_COLHIDA']], default=0)\n",
    "bd_agro['TC_REAL'] = bd_aralco['TC_REAL']\n"
   ]
  },
  {
   "cell_type": "code",
   "execution_count": 185,
   "id": "8972f5ba-499c-4c2d-b3a7-c51967f9a317",
   "metadata": {},
   "outputs": [],
   "source": [
    "locale.setlocale(locale.LC_TIME, 'pt_BR.UTF-8')  # Para exibir a data em português\n",
    "bd_agro['DT_CORTE'] =  np.select([bd_aralco['encerrado'] == 'S'], [bd_aralco['dataencerramento']], default=0)\n",
    "bd_agro['DT_ULT_CORTE'] = bd_aralco['data_corte_safra_anterior']\n",
    "bd_agro['DT_PLANTIO'] = bd_aralco['dataplantio']\n",
    "bd_agro['DT_ULT_CORTE'] = np.select([bd_agro['NMRO_CORTE'] != 1], [bd_agro['DT_ULT_CORTE']], default=pd.to_datetime('1900-01-01').date())\n",
    "bd_agro['DT_CORTE'] = bd_agro['DT_CORTE'].replace(0,pd.to_datetime('1900-01-01').date())\n",
    "bd_agro['DT_ULT_CORTE'] = bd_agro['DT_ULT_CORTE'].replace(0,pd.to_datetime('1900-01-01').date())\n",
    "bd_agro['DT_PLANTIO'] = bd_agro['DT_PLANTIO'].replace(0,pd.to_datetime('1900-01-01').date())\n",
    "bd_agro['DT_ULT_CORTE'] = bd_agro['DT_ULT_CORTE'].fillna(pd.to_datetime('1900-01-01').date())\n",
    "bd_agro['DT_PLANTIO'] = bd_agro['DT_PLANTIO'].fillna(pd.to_datetime('1900-01-01').date())\n",
    "bd_agro['DT_CORTE'] = pd.to_datetime(bd_agro['DT_CORTE'])\n",
    "bd_agro['DT_PLANTIO'] = pd.to_datetime(bd_agro['DT_PLANTIO'])\n",
    "bd_agro['DT_ULT_CORTE'] = pd.to_datetime(bd_agro['DT_ULT_CORTE'])\n",
    "\n",
    "#print(bd_agro[['DT_CORTE', 'DT_ULT_CORTE', 'DT_PLANTIO']].head())"
   ]
  },
  {
   "cell_type": "code",
   "execution_count": 186,
   "id": "fd7b0d27-0213-4d58-b05d-edbe213a9cd8",
   "metadata": {},
   "outputs": [],
   "source": [
    "bd_agro['IDADE_CORTE'] = np.where(\n",
    "    bd_agro['NMRO_CORTE'] == 1,\n",
    "    (bd_agro['DT_CORTE'] - bd_agro['DT_PLANTIO']).dt.days / 30,\n",
    "    (bd_agro['DT_CORTE'] - bd_agro['DT_ULT_CORTE']).dt.days / 30)\n",
    "bd_agro.loc[(bd_agro['IDADE_CORTE'] > 35) | (bd_agro['IDADE_CORTE'] < 0), 'IDADE_CORTE'] = 0  "
   ]
  },
  {
   "cell_type": "code",
   "execution_count": 183,
   "id": "e832a232-fa42-4a13-9270-0fc627af9f9c",
   "metadata": {},
   "outputs": [],
   "source": [
    "bd_agro['ATR'] = np.select([bd_aralco['encerrado'] == 'S'], [bd_aralco['atr']], default=0)"
   ]
  },
  {
   "cell_type": "code",
   "execution_count": 184,
   "id": "7343642c-f304-4f1b-9679-18fad8b688d6",
   "metadata": {},
   "outputs": [],
   "source": [
    "bd_agro.to_excel('output/BD_AGRO_ARALCO.xlsx', index=False)"
   ]
  },
  {
   "cell_type": "code",
   "execution_count": null,
   "id": "41eda6b7-e117-4364-a4ab-7819b073bf7e",
   "metadata": {},
   "outputs": [],
   "source": []
  }
 ],
 "metadata": {
  "kernelspec": {
   "display_name": "Python 3 (ipykernel)",
   "language": "python",
   "name": "python3"
  },
  "language_info": {
   "codemirror_mode": {
    "name": "ipython",
    "version": 3
   },
   "file_extension": ".py",
   "mimetype": "text/x-python",
   "name": "python",
   "nbconvert_exporter": "python",
   "pygments_lexer": "ipython3",
   "version": "3.11.1"
  }
 },
 "nbformat": 4,
 "nbformat_minor": 5
}
